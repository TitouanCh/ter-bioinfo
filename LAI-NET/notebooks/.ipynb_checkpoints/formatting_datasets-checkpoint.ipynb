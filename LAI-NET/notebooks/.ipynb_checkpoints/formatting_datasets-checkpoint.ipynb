{
 "cells": [
  {
   "cell_type": "code",
   "execution_count": 107,
   "id": "0e74a3d8-6f5d-4859-b80c-735d48268ce8",
   "metadata": {},
   "outputs": [
    {
     "name": "stdout",
     "output_type": "stream",
     "text": [
      "bcftools has been loaded\n",
      "\n"
     ]
    }
   ],
   "source": [
    "import pandas as pd\n",
    "import os\n",
    "import subprocess\n",
    "import numpy as np\n",
    "import random\n",
    "\n",
    "#importing module (only for jupytercluster)\n",
    "exec(open(\"/shared/software/modules/4.6.1/init/python.py\").read(), globals())\n",
    "module(\"load\", \"bcftools\")\n",
    "print(\"bcftools has been loaded\\n\")"
   ]
  },
  {
   "cell_type": "markdown",
   "id": "98124634-06a2-4280-8837-ba66875ed2c7",
   "metadata": {
    "tags": []
   },
   "source": [
    "## Creating the reference.smap from the igsr_samples.tsv\n"
   ]
  },
  {
   "cell_type": "markdown",
   "id": "800f072b-4ad0-4e50-b885-8cc021c44f04",
   "metadata": {},
   "source": [
    "We're using the 10K SNPS chrm15 file."
   ]
  },
  {
   "cell_type": "code",
   "execution_count": 108,
   "id": "dbda03d9-6068-4aa8-b917-6d98da73c11f",
   "metadata": {},
   "outputs": [],
   "source": [
    "data_folder= '../data/from_github/'\n",
    "reference_file = data_folder+ '10KSNPs_ALL.chr15.phase3.vcf.gz'"
   ]
  },
  {
   "cell_type": "code",
   "execution_count": 109,
   "id": "760d0df7-19ff-4cf4-b34a-f1789c924514",
   "metadata": {},
   "outputs": [],
   "source": [
    "#switch this cells to code\n",
    "legend_file=data_folder+ 'igsr_samples.tsv'\n",
    "reference_map_file= data_folder +'reference.smap'\n",
    "\n",
    "#creating the .smap file\n",
    "sample_list=pd.read_csv(legend_file,sep=\"\\t\")\n",
    "reference_map= sample_list.loc[:, ['Sample name', 'Superpopulation code']]\n",
    "\n",
    "#deleting row if superpopulation code is Nan\n",
    "reference_map = reference_map.dropna(subset=['Superpopulation code'])\n",
    "\n",
    "#removing the EUR,AFR individual\n",
    "reference_map=reference_map[reference_map.iloc[:,1]!='EUR,AFR']\n",
    "\n",
    "cmd=\"bcftools query -l \"+reference_file+ \" -o ref_sample_name.tsv\"\n",
    "sample_name = subprocess.check_output(['bcftools', 'query', '-l', reference_file], universal_newlines=True)\n",
    "sample_name=list(sample_name.strip().split('\\n'))\n",
    "\n",
    "#deleting row if the sample is not in the reference file\n",
    "mask= reference_map['Sample name'].isin(sample_name)\n",
    "reference_map = reference_map[mask]\n",
    "\n",
    "np.savetxt(reference_map_file,reference_map,delimiter='\\t',fmt=\"%s\")\n"
   ]
  },
  {
   "cell_type": "code",
   "execution_count": 110,
   "id": "68f2ba46-a174-46ca-bd5e-37ed0dcc51a4",
   "metadata": {},
   "outputs": [],
   "source": [
    "reference_map_file=data_folder+'reference.smap'"
   ]
  },
  {
   "cell_type": "markdown",
   "id": "87b3f371-4cd4-4d71-b20e-0a07230b570d",
   "metadata": {},
   "source": [
    "## Naming the file"
   ]
  },
  {
   "cell_type": "markdown",
   "id": "ea216bb1-8221-45aa-aa46-35a6f2a71259",
   "metadata": {},
   "source": [
    "We will extract both the sample requied for training and the query from the reference file.\n",
    "\n",
    "Let's define how many sample we want for the training part."
   ]
  },
  {
   "cell_type": "code",
   "execution_count": 111,
   "id": "6f4455c5-04e9-4ffd-8676-526918c768e0",
   "metadata": {},
   "outputs": [],
   "source": [
    "nb_pop=5 #max is 5 in our file\n",
    "nb_sample_per_pop=60\n",
    "nb_sample=nb_pop*nb_sample_per_pop\n",
    "\n",
    "sample_file=data_folder+str(nb_pop)+'pop_'+str(nb_sample)+'sample.vcf.gz'\n",
    "sample_file_list=data_folder+str(nb_pop)+'pop_'+str(nb_sample)+'sample.tsv'\n",
    "\n",
    "sample_map_file = data_folder+str(nb_pop)+'pop_'+str(nb_sample)+'sample.smap'\n"
   ]
  },
  {
   "cell_type": "markdown",
   "id": "8dfc90e2-66cb-4e5f-9827-a115af3d1096",
   "metadata": {},
   "source": [
    "Doing the same for the query file."
   ]
  },
  {
   "cell_type": "code",
   "execution_count": 112,
   "id": "d8108059-d6b1-42bb-aad5-a17c9660b8a9",
   "metadata": {},
   "outputs": [],
   "source": [
    "qnb_pop=5 #max is 5 in our file\n",
    "qnb_sample_per_pop=10\n",
    "qnb_sample=qnb_pop*qnb_sample_per_pop\n",
    "query_file= data_folder+str(qnb_pop)+'pop_'+str(qnb_sample)+'query.vcf.gz'\n",
    "query_file_list= data_folder+str(qnb_pop)+'pop_'+str(qnb_sample)+'query.tsv'\n",
    "query_map_file= data_folder+str(qnb_pop)+'pop_'+str(qnb_sample)+'query.smap'"
   ]
  },
  {
   "cell_type": "markdown",
   "id": "98090c16-6d6a-49df-b784-32e5418ccd02",
   "metadata": {},
   "source": [
    "\n",
    "## Extracting"
   ]
  },
  {
   "cell_type": "code",
   "execution_count": 113,
   "id": "244aa9ee-9ce7-4829-b65e-7b712e813e66",
   "metadata": {},
   "outputs": [],
   "source": [
    "#Extracting the samples\n",
    "reference_map = pd.read_csv(reference_map_file, sep=\"\\t\",header=None)\n",
    "df=reference_map\n",
    "#Grouping the df by population \n",
    "grouped = df.groupby(1)\n",
    "\n",
    "# Initialize two empty DataFrame to store the samples\n",
    "selected_samples = pd.DataFrame()\n",
    "selected_query=pd.DataFrame()\n",
    "\n",
    "\n",
    "\n",
    "# Initialize dictionaries to keep track of selected counts for each population category\n",
    "selected_counts_s = {pop: 0 for pop in df[1].unique()}\n",
    "selected_counts_q = {pop: 0 for pop in df[1].unique()}\n",
    "\n",
    "# Define the target sample count for each population category\n",
    "target_count_s = nb_sample_per_pop\n",
    "target_count_q= qnb_sample_per_pop\n",
    "\n",
    "# Create a list to keep track of selected samples\n",
    "selected_indices = []\n",
    "\n",
    "\n",
    "# Function to check if the target counts have been reached for all categories in both groups\n",
    "def all_target_counts_reached(selected_counts, target_count):\n",
    "    return all(selected_counts[pop] == target_count for pop in selected_counts)\n",
    "\n",
    "# Continue selecting samples until the target counts are reached for all categories in both groups\n",
    "while not all_target_counts_reached(selected_counts_s, target_count_s) or not all_target_counts_reached(selected_counts_q, target_count_q):\n",
    "    \n",
    "    # Randomly select an index for a sample that hasn't been selected yet\n",
    "    available_indices = [index for index in df.index if index not in selected_indices]\n",
    "    if not available_indices:\n",
    "        break  # All available samples have been selected\n",
    "    index = random.choice(available_indices)\n",
    "    \n",
    "    # Select the sample at the chosen index\n",
    "    row = df.iloc[index].to_frame().T.reset_index(drop=True)\n",
    "    pop = row.values[0,1]\n",
    "    if selected_counts_s[pop] < target_count_s:\n",
    "        selected_samples = pd.concat([selected_samples,row], ignore_index=True)\n",
    "        selected_counts_s[pop] += 1\n",
    "    elif selected_counts_q[pop] < target_count_q:\n",
    "        selected_query = pd.concat([selected_query,row], ignore_index=True)\n",
    "        selected_counts_q[pop] += 1\n",
    "    \n",
    "    # Update the list of selected sample indices\n",
    "    selected_indices.append(index)\n",
    "\n",
    "#Saving data in separates files \n",
    "        \n",
    "columns=[\"Sample\",\"Population code\"]\n",
    "selected_samples.columns=columns\n",
    "selected_query.columns=columns\n",
    "\n",
    "np.savetxt(sample_map_file, selected_samples, delimiter=\"\\t\", fmt=\"%s\")\n",
    "np.savetxt(query_map_file, selected_query, delimiter=\"\\t\", fmt=\"%s\")\n",
    "\n",
    "\n",
    "\n"
   ]
  },
  {
   "cell_type": "code",
   "execution_count": 114,
   "id": "dce6f8ea-b132-4ac3-aab4-1f2f074bf4f8",
   "metadata": {},
   "outputs": [],
   "source": [
    "#file whithout the pop code\n",
    "sample_file_list=data_folder+str(nb_pop)+'pop_'+str(nb_sample)+'samplelist.tsv'\n",
    "query_file_list= data_folder+str(qnb_pop)+'pop_'+str(qnb_sample)+'querylist.tsv'\n",
    "\n",
    "np.savetxt(sample_file_list, selected_samples[\"Sample\"], delimiter=\"\\t\", fmt=\"%s\")\n",
    "np.savetxt(query_file_list, selected_query[\"Sample\"], delimiter=\"\\t\", fmt=\"%s\")"
   ]
  },
  {
   "cell_type": "code",
   "execution_count": 116,
   "id": "2c97800b-a1bb-474e-837d-8b462e8689be",
   "metadata": {},
   "outputs": [
    {
     "name": "stdout",
     "output_type": "stream",
     "text": [
      "Running in command line: \n",
      "\t bcftools view -S ../data/from_github/5pop_300samplelist.tsv -Ov -o ../data/from_github/5pop_300sample.vcf.gz ../data/from_github/10KSNPs_ALL.chr15.phase3.vcf.gz \n",
      "\t bcftools view -S ../data/from_github/5pop_50querylist.tsv -Ov -o ../data/from_github/5pop_50query.vcf.gz ../data/from_github/10KSNPs_ALL.chr15.phase3.vcf.gz\n"
     ]
    },
    {
     "data": {
      "text/plain": [
       "0"
      ]
     },
     "execution_count": 116,
     "metadata": {},
     "output_type": "execute_result"
    }
   ],
   "source": [
    "\n",
    "subset_cmd_q = \"bcftools view\" + \" -S \" + sample_file_list + \" -Ov -o \" + sample_file + \" \" + reference_file\n",
    "subset_cmd_s = \"bcftools view\" + \" -S \" + query_file_list + \" -Ov -o \" + query_file + \" \" + reference_file\n",
    "\n",
    "print(\"Running in command line: \\n\\t\", subset_cmd_q,\"\\n\\t\",subset_cmd_s)\n",
    "os.system(subset_cmd_q)\n",
    "os.system(subset_cmd_s)\n"
   ]
  },
  {
   "cell_type": "code",
   "execution_count": null,
   "id": "e5e2223d-da92-457b-9ab7-3323f9cdc234",
   "metadata": {},
   "outputs": [],
   "source": []
  },
  {
   "cell_type": "code",
   "execution_count": null,
   "id": "39910e50-3b14-45c4-b380-5c16bde0a417",
   "metadata": {},
   "outputs": [],
   "source": []
  }
 ],
 "metadata": {
  "kernelspec": {
   "display_name": "Mon Python",
   "language": "python",
   "name": "ter"
  },
  "language_info": {
   "codemirror_mode": {
    "name": "ipython",
    "version": 3
   },
   "file_extension": ".py",
   "mimetype": "text/x-python",
   "name": "python",
   "nbconvert_exporter": "python",
   "pygments_lexer": "ipython3",
   "version": "3.9.18"
  }
 },
 "nbformat": 4,
 "nbformat_minor": 5
}

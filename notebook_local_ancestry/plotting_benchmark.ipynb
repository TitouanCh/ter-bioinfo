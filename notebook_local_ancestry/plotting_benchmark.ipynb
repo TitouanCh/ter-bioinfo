{
 "cells": [
  {
   "cell_type": "code",
   "execution_count": null,
   "id": "4bbabbb3-19e7-4e14-b73b-3bd62e3bfbc1",
   "metadata": {},
   "outputs": [],
   "source": [
    "#Importing library\n",
    "import matplotlib.pyplot as plt\n",
    "import numpy as np\n",
    "import pandas as pd"
   ]
  },
  {
   "cell_type": "markdown",
   "id": "1b60433e-c9b7-4f37-b961-0a8e38e82341",
   "metadata": {},
   "source": [
    "## Importing data"
   ]
  },
  {
   "cell_type": "code",
   "execution_count": null,
   "id": "b8844f5f-c3f2-4476-8a72-3d7a6d645a31",
   "metadata": {},
   "outputs": [],
   "source": [
    "data_folder_l ='..data/output_lainet'\n",
    "data_folder_g='..data/output_gnomix'"
   ]
  },
  {
   "cell_type": "code",
   "execution_count": null,
   "id": "fb6fcb44-28c1-4e0c-a62c-3f4c13d734c5",
   "metadata": {},
   "outputs": [],
   "source": [
    "output_file="
   ]
  },
  {
   "cell_type": "code",
   "execution_count": null,
   "id": "1f0fbe52-6e98-4ea1-87ca-5429f856f0fc",
   "metadata": {},
   "outputs": [],
   "source": [
    "msp_df = pd.read_csv(output_file, sep=\"\\t\",skiprows=[0])\n",
    "# reading the sample-ids\n",
    "query_samples = get_samples_from_msp_df(msp_df)\n",
    "\n",
    "# reading predictions for each of the intervals\n",
    "pred_labels = (np.array(msp_df)[:,6:].T).astype(int)\n",
    "# reducing it to only 1 of maternal/paternal prediction\n",
    "single_ind_idx = np.arange(0,len(query_samples)*2,2)\n",
    "pred_labels_single_ind = pred_labels[single_ind_idx,:]\n",
    "\n",
    "\n",
    "# predicting single ancestry by taking mode of local predictions for each individual\n",
    "y_pred = stats.mode(pred_labels_single_ind,axis=1)[0].squeeze() \n",
    "\n",
    "# get model population order from first line of file and convert from numeric predictions\n",
    "with open(output_file, \"r\") as f:\n",
    "    pop = np.array([p.split(\"=\")[0] for p in f.readline().split()[2:]])\n",
    "pred_pop = [pop[pop_ind] for pop_ind in y_pred]\n",
    "\n",
    "# put it together in dataframe\n",
    "pred_df = pd.DataFrame({\"Sample\": query_samples, \"Prediction\": pred_pop})\n"
   ]
  }
 ],
 "metadata": {
  "kernelspec": {
   "display_name": "Mon Python",
   "language": "python",
   "name": "ter"
  },
  "language_info": {
   "codemirror_mode": {
    "name": "ipython",
    "version": 3
   },
   "file_extension": ".py",
   "mimetype": "text/x-python",
   "name": "python",
   "nbconvert_exporter": "python",
   "pygments_lexer": "ipython3",
   "version": "3.9.18"
  }
 },
 "nbformat": 4,
 "nbformat_minor": 5
}

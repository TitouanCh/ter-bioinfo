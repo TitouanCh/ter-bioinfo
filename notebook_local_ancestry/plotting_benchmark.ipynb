{
 "cells": [
  {
   "cell_type": "code",
   "execution_count": null,
   "id": "4bbabbb3-19e7-4e14-b73b-3bd62e3bfbc1",
   "metadata": {},
   "outputs": [],
   "source": [
    "#Importing library\n",
    "import matplotlib.pyplot as plt\n",
    "import numpy as np\n",
    "import pandas as pd"
   ]
  },
  {
   "cell_type": "markdown",
   "id": "1b60433e-c9b7-4f37-b961-0a8e38e82341",
   "metadata": {},
   "source": [
    "## Importing data"
   ]
  },
  {
   "cell_type": "code",
   "execution_count": null,
   "id": "b8844f5f-c3f2-4476-8a72-3d7a6d645a31",
   "metadata": {},
   "outputs": [],
   "source": [
    "data_folder_l ='../data/output_lainet'"
   ]
  },
  {
   "cell_type": "code",
   "execution_count": null,
   "id": "1f0fbe52-6e98-4ea1-87ca-5429f856f0fc",
   "metadata": {},
   "outputs": [],
   "source": []
  }
 ],
 "metadata": {
  "kernelspec": {
   "display_name": "Mon Python",
   "language": "python",
   "name": "ter"
  },
  "language_info": {
   "codemirror_mode": {
    "name": "ipython",
    "version": 3
   },
   "file_extension": ".py",
   "mimetype": "text/x-python",
   "name": "python",
   "nbconvert_exporter": "python",
   "pygments_lexer": "ipython3",
   "version": "3.9.18"
  }
 },
 "nbformat": 4,
 "nbformat_minor": 5
}

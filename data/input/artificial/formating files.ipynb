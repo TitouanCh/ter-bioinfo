{
 "cells": [
  {
   "cell_type": "code",
   "execution_count": 26,
   "id": "8ea710b3-88f4-41e3-869a-eda0f2f25c14",
   "metadata": {},
   "outputs": [],
   "source": [
    "import pandas as pd\n",
    "import os"
   ]
  },
  {
   "cell_type": "code",
   "execution_count": 25,
   "id": "7a20e87a-e355-4177-b9d5-fe378c3f3797",
   "metadata": {},
   "outputs": [],
   "source": [
    "#importing the hapt file\n",
    "df=pd.read_csv(\"WGAN.hapt\", sep =\" \")\n",
    "df.drop(df.columns[[0,1]],axis=1,inplace=True)\n",
    "df_hap=df.T\n",
    "df_hap.to_csv(\"WGAN\")"
   ]
  },
  {
   "cell_type": "code",
   "execution_count": 28,
   "id": "3b277750-7983-4c2f-8af9-6fc85599065f",
   "metadata": {},
   "outputs": [
    {
     "name": "stdout",
     "output_type": "stream",
     "text": [
      "bcftools convert --haps WGAN.hap -o WGAN.vcf\n"
     ]
    }
   ],
   "source": [
    "#using bcftools\n",
    "hap_file='WGAN.hap'\n",
    "vcf_filename='WGAN.vcf'\n",
    "cmd='bcftools convert --haps '+hap_file +' -o '+ vcf_filename\n",
    "#os.system(cmd)\n",
    "\n",
    "print(cmd) #run this in terminal with bcftools installed"
   ]
  },
  {
   "cell_type": "code",
   "execution_count": null,
   "id": "35d100e9-a168-4252-a0e0-626ed328c3bc",
   "metadata": {},
   "outputs": [],
   "source": []
  }
 ],
 "metadata": {
  "kernelspec": {
   "display_name": "Mon Python",
   "language": "python",
   "name": "ter"
  },
  "language_info": {
   "codemirror_mode": {
    "name": "ipython",
    "version": 3
   },
   "file_extension": ".py",
   "mimetype": "text/x-python",
   "name": "python",
   "nbconvert_exporter": "python",
   "pygments_lexer": "ipython3",
   "version": "3.9.18"
  }
 },
 "nbformat": 4,
 "nbformat_minor": 5
}

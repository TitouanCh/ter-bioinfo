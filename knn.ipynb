{
 "cells": [
  {
   "cell_type": "markdown",
   "id": "f52cf801-2343-4ddf-aae1-9eec6077ab55",
   "metadata": {},
   "source": [
    "# Importing useful libraries"
   ]
  },
  {
   "cell_type": "code",
   "execution_count": 1,
   "id": "d14233e2-ace6-4817-94ca-5ea706227d63",
   "metadata": {},
   "outputs": [],
   "source": [
    "import numpy as np \n",
    "import pandas as pd\n",
    "from matplotlib import pyplot as plt\n",
    "from sklearn.neighbors import KNeighborsRegressor, KNeighborsClassifier\n",
    "from sklearn.decomposition import PCA\n",
    "from sklearn.metrics import mean_squared_error\n",
    "from math import sqrt\n",
    "from sklearn.metrics import ConfusionMatrixDisplay"
   ]
  },
  {
   "cell_type": "markdown",
   "id": "226dba56-d881-4ad3-929d-c2c71940afb4",
   "metadata": {},
   "source": [
    "# Analyzing the data we are working with"
   ]
  },
  {
   "cell_type": "code",
   "execution_count": 2,
   "id": "0c7f15ed-13a4-4f9c-a8c7-d738671ac141",
   "metadata": {},
   "outputs": [],
   "source": [
    "# Base variables\n",
    "superpopulation_code_colors = ['#D9EDF8', '#FFADAD', '#E4F1EE', '#FFD6A5', '#DEDAF4', '#FDFFB6']\n",
    "\n",
    "superpopulation_code_dict = {\n",
    "    'EUR': 0,\n",
    "    'EAS': 1,\n",
    "    'AMR': 2,\n",
    "    'SAS': 3,\n",
    "    'AFR': 4,\n",
    "    'EUR,AFR': 5\n",
    "}"
   ]
  },
  {
   "cell_type": "code",
   "execution_count": 23,
   "id": "b0d1730d-bfe4-489f-8eb5-279c511b51e4",
   "metadata": {},
   "outputs": [],
   "source": [
    "real_filename = \"REAL.hapt\"\n",
    "real_labels = \"REAL.tsv\"\n",
    "ag_filename = \"WGAN.hapt\""
   ]
  },
  {
   "cell_type": "code",
   "execution_count": 4,
   "id": "a5cf7bcb-88cb-4ffc-b862-0544cf4fdfc8",
   "metadata": {},
   "outputs": [
    {
     "data": {
      "text/html": [
       "<div>\n",
       "<style scoped>\n",
       "    .dataframe tbody tr th:only-of-type {\n",
       "        vertical-align: middle;\n",
       "    }\n",
       "\n",
       "    .dataframe tbody tr th {\n",
       "        vertical-align: top;\n",
       "    }\n",
       "\n",
       "    .dataframe thead th {\n",
       "        text-align: right;\n",
       "    }\n",
       "</style>\n",
       "<table border=\"1\" class=\"dataframe\">\n",
       "  <thead>\n",
       "    <tr style=\"text-align: right;\">\n",
       "      <th></th>\n",
       "      <th>Type</th>\n",
       "      <th>Sample</th>\n",
       "      <th>0</th>\n",
       "      <th>1</th>\n",
       "      <th>2</th>\n",
       "      <th>3</th>\n",
       "      <th>4</th>\n",
       "      <th>5</th>\n",
       "      <th>6</th>\n",
       "      <th>7</th>\n",
       "      <th>...</th>\n",
       "      <th>9992</th>\n",
       "      <th>9993</th>\n",
       "      <th>9994</th>\n",
       "      <th>9995</th>\n",
       "      <th>9996</th>\n",
       "      <th>9997</th>\n",
       "      <th>9998</th>\n",
       "      <th>9999</th>\n",
       "      <th>Superpopulation code</th>\n",
       "      <th>Population code</th>\n",
       "    </tr>\n",
       "  </thead>\n",
       "  <tbody>\n",
       "    <tr>\n",
       "      <th>0</th>\n",
       "      <td>Real</td>\n",
       "      <td>HG00096</td>\n",
       "      <td>0</td>\n",
       "      <td>0</td>\n",
       "      <td>0</td>\n",
       "      <td>0</td>\n",
       "      <td>1</td>\n",
       "      <td>0</td>\n",
       "      <td>1</td>\n",
       "      <td>0</td>\n",
       "      <td>...</td>\n",
       "      <td>0</td>\n",
       "      <td>0</td>\n",
       "      <td>0</td>\n",
       "      <td>0</td>\n",
       "      <td>0</td>\n",
       "      <td>0</td>\n",
       "      <td>0</td>\n",
       "      <td>0</td>\n",
       "      <td>0</td>\n",
       "      <td>GBR</td>\n",
       "    </tr>\n",
       "    <tr>\n",
       "      <th>1</th>\n",
       "      <td>Real</td>\n",
       "      <td>HG00096</td>\n",
       "      <td>0</td>\n",
       "      <td>0</td>\n",
       "      <td>0</td>\n",
       "      <td>0</td>\n",
       "      <td>1</td>\n",
       "      <td>0</td>\n",
       "      <td>1</td>\n",
       "      <td>0</td>\n",
       "      <td>...</td>\n",
       "      <td>0</td>\n",
       "      <td>0</td>\n",
       "      <td>0</td>\n",
       "      <td>0</td>\n",
       "      <td>0</td>\n",
       "      <td>0</td>\n",
       "      <td>0</td>\n",
       "      <td>0</td>\n",
       "      <td>0</td>\n",
       "      <td>GBR</td>\n",
       "    </tr>\n",
       "    <tr>\n",
       "      <th>2</th>\n",
       "      <td>Real</td>\n",
       "      <td>HG00097</td>\n",
       "      <td>0</td>\n",
       "      <td>0</td>\n",
       "      <td>0</td>\n",
       "      <td>0</td>\n",
       "      <td>1</td>\n",
       "      <td>0</td>\n",
       "      <td>1</td>\n",
       "      <td>0</td>\n",
       "      <td>...</td>\n",
       "      <td>0</td>\n",
       "      <td>0</td>\n",
       "      <td>0</td>\n",
       "      <td>0</td>\n",
       "      <td>0</td>\n",
       "      <td>0</td>\n",
       "      <td>0</td>\n",
       "      <td>0</td>\n",
       "      <td>0</td>\n",
       "      <td>GBR</td>\n",
       "    </tr>\n",
       "    <tr>\n",
       "      <th>3</th>\n",
       "      <td>Real</td>\n",
       "      <td>HG00097</td>\n",
       "      <td>1</td>\n",
       "      <td>0</td>\n",
       "      <td>0</td>\n",
       "      <td>0</td>\n",
       "      <td>0</td>\n",
       "      <td>1</td>\n",
       "      <td>1</td>\n",
       "      <td>0</td>\n",
       "      <td>...</td>\n",
       "      <td>0</td>\n",
       "      <td>0</td>\n",
       "      <td>0</td>\n",
       "      <td>0</td>\n",
       "      <td>0</td>\n",
       "      <td>0</td>\n",
       "      <td>0</td>\n",
       "      <td>0</td>\n",
       "      <td>0</td>\n",
       "      <td>GBR</td>\n",
       "    </tr>\n",
       "    <tr>\n",
       "      <th>4</th>\n",
       "      <td>Real</td>\n",
       "      <td>HG00099</td>\n",
       "      <td>0</td>\n",
       "      <td>0</td>\n",
       "      <td>0</td>\n",
       "      <td>0</td>\n",
       "      <td>1</td>\n",
       "      <td>0</td>\n",
       "      <td>1</td>\n",
       "      <td>0</td>\n",
       "      <td>...</td>\n",
       "      <td>0</td>\n",
       "      <td>0</td>\n",
       "      <td>0</td>\n",
       "      <td>0</td>\n",
       "      <td>0</td>\n",
       "      <td>0</td>\n",
       "      <td>0</td>\n",
       "      <td>0</td>\n",
       "      <td>0</td>\n",
       "      <td>GBR</td>\n",
       "    </tr>\n",
       "    <tr>\n",
       "      <th>...</th>\n",
       "      <td>...</td>\n",
       "      <td>...</td>\n",
       "      <td>...</td>\n",
       "      <td>...</td>\n",
       "      <td>...</td>\n",
       "      <td>...</td>\n",
       "      <td>...</td>\n",
       "      <td>...</td>\n",
       "      <td>...</td>\n",
       "      <td>...</td>\n",
       "      <td>...</td>\n",
       "      <td>...</td>\n",
       "      <td>...</td>\n",
       "      <td>...</td>\n",
       "      <td>...</td>\n",
       "      <td>...</td>\n",
       "      <td>...</td>\n",
       "      <td>...</td>\n",
       "      <td>...</td>\n",
       "      <td>...</td>\n",
       "      <td>...</td>\n",
       "    </tr>\n",
       "    <tr>\n",
       "      <th>5003</th>\n",
       "      <td>Real</td>\n",
       "      <td>NA21142</td>\n",
       "      <td>0</td>\n",
       "      <td>0</td>\n",
       "      <td>0</td>\n",
       "      <td>0</td>\n",
       "      <td>0</td>\n",
       "      <td>0</td>\n",
       "      <td>1</td>\n",
       "      <td>0</td>\n",
       "      <td>...</td>\n",
       "      <td>0</td>\n",
       "      <td>0</td>\n",
       "      <td>0</td>\n",
       "      <td>0</td>\n",
       "      <td>0</td>\n",
       "      <td>0</td>\n",
       "      <td>0</td>\n",
       "      <td>0</td>\n",
       "      <td>3</td>\n",
       "      <td>GIH</td>\n",
       "    </tr>\n",
       "    <tr>\n",
       "      <th>5004</th>\n",
       "      <td>Real</td>\n",
       "      <td>NA21143</td>\n",
       "      <td>0</td>\n",
       "      <td>0</td>\n",
       "      <td>1</td>\n",
       "      <td>0</td>\n",
       "      <td>0</td>\n",
       "      <td>0</td>\n",
       "      <td>1</td>\n",
       "      <td>0</td>\n",
       "      <td>...</td>\n",
       "      <td>0</td>\n",
       "      <td>0</td>\n",
       "      <td>0</td>\n",
       "      <td>0</td>\n",
       "      <td>0</td>\n",
       "      <td>0</td>\n",
       "      <td>0</td>\n",
       "      <td>0</td>\n",
       "      <td>3</td>\n",
       "      <td>GIH</td>\n",
       "    </tr>\n",
       "    <tr>\n",
       "      <th>5005</th>\n",
       "      <td>Real</td>\n",
       "      <td>NA21143</td>\n",
       "      <td>1</td>\n",
       "      <td>0</td>\n",
       "      <td>0</td>\n",
       "      <td>0</td>\n",
       "      <td>0</td>\n",
       "      <td>1</td>\n",
       "      <td>1</td>\n",
       "      <td>0</td>\n",
       "      <td>...</td>\n",
       "      <td>0</td>\n",
       "      <td>0</td>\n",
       "      <td>0</td>\n",
       "      <td>0</td>\n",
       "      <td>0</td>\n",
       "      <td>0</td>\n",
       "      <td>0</td>\n",
       "      <td>0</td>\n",
       "      <td>3</td>\n",
       "      <td>GIH</td>\n",
       "    </tr>\n",
       "    <tr>\n",
       "      <th>5006</th>\n",
       "      <td>Real</td>\n",
       "      <td>NA21144</td>\n",
       "      <td>0</td>\n",
       "      <td>0</td>\n",
       "      <td>1</td>\n",
       "      <td>0</td>\n",
       "      <td>0</td>\n",
       "      <td>0</td>\n",
       "      <td>1</td>\n",
       "      <td>0</td>\n",
       "      <td>...</td>\n",
       "      <td>0</td>\n",
       "      <td>0</td>\n",
       "      <td>0</td>\n",
       "      <td>0</td>\n",
       "      <td>0</td>\n",
       "      <td>0</td>\n",
       "      <td>0</td>\n",
       "      <td>0</td>\n",
       "      <td>3</td>\n",
       "      <td>GIH</td>\n",
       "    </tr>\n",
       "    <tr>\n",
       "      <th>5007</th>\n",
       "      <td>Real</td>\n",
       "      <td>NA21144</td>\n",
       "      <td>0</td>\n",
       "      <td>0</td>\n",
       "      <td>1</td>\n",
       "      <td>0</td>\n",
       "      <td>0</td>\n",
       "      <td>0</td>\n",
       "      <td>1</td>\n",
       "      <td>0</td>\n",
       "      <td>...</td>\n",
       "      <td>0</td>\n",
       "      <td>0</td>\n",
       "      <td>0</td>\n",
       "      <td>0</td>\n",
       "      <td>0</td>\n",
       "      <td>0</td>\n",
       "      <td>0</td>\n",
       "      <td>0</td>\n",
       "      <td>3</td>\n",
       "      <td>GIH</td>\n",
       "    </tr>\n",
       "  </tbody>\n",
       "</table>\n",
       "<p>5006 rows × 10004 columns</p>\n",
       "</div>"
      ],
      "text/plain": [
       "      Type   Sample  0  1  2  3  4  5  6  7  ...  9992  9993  9994  9995  \\\n",
       "0     Real  HG00096  0  0  0  0  1  0  1  0  ...     0     0     0     0   \n",
       "1     Real  HG00096  0  0  0  0  1  0  1  0  ...     0     0     0     0   \n",
       "2     Real  HG00097  0  0  0  0  1  0  1  0  ...     0     0     0     0   \n",
       "3     Real  HG00097  1  0  0  0  0  1  1  0  ...     0     0     0     0   \n",
       "4     Real  HG00099  0  0  0  0  1  0  1  0  ...     0     0     0     0   \n",
       "...    ...      ... .. .. .. .. .. .. .. ..  ...   ...   ...   ...   ...   \n",
       "5003  Real  NA21142  0  0  0  0  0  0  1  0  ...     0     0     0     0   \n",
       "5004  Real  NA21143  0  0  1  0  0  0  1  0  ...     0     0     0     0   \n",
       "5005  Real  NA21143  1  0  0  0  0  1  1  0  ...     0     0     0     0   \n",
       "5006  Real  NA21144  0  0  1  0  0  0  1  0  ...     0     0     0     0   \n",
       "5007  Real  NA21144  0  0  1  0  0  0  1  0  ...     0     0     0     0   \n",
       "\n",
       "      9996  9997  9998  9999  Superpopulation code  Population code  \n",
       "0        0     0     0     0                     0              GBR  \n",
       "1        0     0     0     0                     0              GBR  \n",
       "2        0     0     0     0                     0              GBR  \n",
       "3        0     0     0     0                     0              GBR  \n",
       "4        0     0     0     0                     0              GBR  \n",
       "...    ...   ...   ...   ...                   ...              ...  \n",
       "5003     0     0     0     0                     3              GIH  \n",
       "5004     0     0     0     0                     3              GIH  \n",
       "5005     0     0     0     0                     3              GIH  \n",
       "5006     0     0     0     0                     3              GIH  \n",
       "5007     0     0     0     0                     3              GIH  \n",
       "\n",
       "[5006 rows x 10004 columns]"
      ]
     },
     "execution_count": 4,
     "metadata": {},
     "output_type": "execute_result"
    }
   ],
   "source": [
    "# Importing real data\n",
    "real_df = pd.read_csv('./data/' + real_filename, delimiter = ' ').reset_index(drop=True)\n",
    "labels_df = pd.read_csv('./data/' + real_labels, header = 0, sep = '\\t')\n",
    "real_df.iloc[:, 1] = real_df.iloc[:, 1].astype(str).str[:-2]\n",
    "real_df = real_df.merge(labels_df[['Sample name','Superpopulation code', 'Population code']], left_on=real_df.iloc[:, 1], right_on='Sample name', how='inner')\n",
    "real_df['Superpopulation code'].replace(superpopulation_code_dict, inplace=True)\n",
    "real_df = real_df.drop(columns='Sample name')\n",
    "real_df.drop(real_df[real_df['Superpopulation code'] == 5].index, inplace = True)\n",
    "real_df"
   ]
  },
  {
   "cell_type": "code",
   "execution_count": 5,
   "id": "3311d9b8-6e18-4176-a6ea-bb3eef48a52e",
   "metadata": {},
   "outputs": [
    {
     "data": {
      "image/png": "[encoded data removed]",
      "text/plain": [
       "<Figure size 432x288 with 1 Axes>"
      ]
     },
     "metadata": {
      "needs_background": "light"
     },
     "output_type": "display_data"
    }
   ],
   "source": [
    "# Looking at the proportions for each superpopulation\n",
    "fig, ax = plt.subplots()\n",
    "\n",
    "individual_per_pop = []\n",
    "pop_names = [\"EUR\", \"EAS\", \"AMR\", \"SAS\", \"AFR\"]\n",
    "for i in range(5):\n",
    "    individual_per_pop.append(real_df[real_df['Superpopulation code'] == i].shape[0])\n",
    "\n",
    "bars = ax.bar(pop_names, height=individual_per_pop, color=superpopulation_code_colors)\n",
    "for bar in bars:\n",
    "    yval = bar.get_height()\n",
    "    ax.text(bar.get_x() + bar.get_width()/2, yval + 10, yval, horizontalalignment='center')\n",
    "ax.set_ylabel('Number of individuals')\n",
    "ax.set_title('Number of individuals per superpopulation')\n",
    "\n",
    "plt.show()"
   ]
  },
  {
   "cell_type": "markdown",
   "id": "942a6891-4a7c-44f9-98ca-4cd079b9ae2c",
   "metadata": {},
   "source": [
    "# Knn"
   ]
  },
  {
   "cell_type": "code",
   "execution_count": 6,
   "id": "36e3c8e2-861f-421f-bd76-07a31ce55a18",
   "metadata": {},
   "outputs": [],
   "source": [
    "# Base variables\n",
    "NUMBER_OF_NEIGHBORS = 6\n",
    "MODEL = KNeighborsClassifier\n",
    "SNP = 9999"
   ]
  },
  {
   "cell_type": "code",
   "execution_count": 7,
   "id": "cdc870ff-3662-4a82-8c4c-cf414de2e7c5",
   "metadata": {},
   "outputs": [],
   "source": [
    "X = real_df.iloc[:, 3:SNP + 3]\n",
    "y = np.ravel(real_df.iloc[:, SNP + 3:SNP + 4])\n",
    "y = y.astype(int)"
   ]
  },
  {
   "cell_type": "markdown",
   "id": "d949f7b2-bbe8-4e56-ab63-d693eba33f7e",
   "metadata": {},
   "source": [
    "## How many neighbors?"
   ]
  },
  {
   "cell_type": "code",
   "execution_count": 8,
   "id": "36b44099-293e-4616-8d57-82e9c9a44a65",
   "metadata": {},
   "outputs": [
    {
     "name": "stdout",
     "output_type": "stream",
     "text": [
      "4/36\n",
      "8/36\n",
      "12/36\n",
      "16/36\n",
      "20/36\n",
      "24/36\n",
      "28/36\n",
      "32/36\n",
      "36/36\n"
     ]
    }
   ],
   "source": [
    "_scores = []\n",
    "_neighbors = [i+1 for i in range(36)]\n",
    "\n",
    "for i in _neighbors:\n",
    "    NUMBER_OF_NEIGHBORS = i\n",
    "    knn_model = MODEL(n_neighbors = NUMBER_OF_NEIGHBORS)\n",
    "    knn_model.fit(X, y)\n",
    "    _scores.append(knn_model.score(X, y))\n",
    "    if i % 4 == 0: print(str(i) + '/' + str(len(_neighbors)))"
   ]
  },
  {
   "cell_type": "code",
   "execution_count": 9,
   "id": "a3e97f04-0a9c-4bef-ac35-8693ceea77c7",
   "metadata": {},
   "outputs": [
    {
     "data": {
      "image/png": "[encoded data removed]",
      "text/plain": [
       "<Figure size 400x400 with 1 Axes>"
      ]
     },
     "metadata": {
      "needs_background": "light"
     },
     "output_type": "display_data"
    }
   ],
   "source": [
    "_x = [i+1 for i in range(16)]\n",
    "plt.figure(figsize=(4, 4), dpi=100)\n",
    "plt.plot(_x, _scores[0: 16], '-', label=\"score\")\n",
    "#plt.plot(_x, scores10k[0: 16], 'g-', label=\"10k\")\n",
    "plt.xlabel(\"Number of neighbors\")\n",
    "plt.ylabel(\"Score (Correct predictions/Sample size)\")\n",
    "plt.legend()\n",
    "plt.show()"
   ]
  },
  {
   "cell_type": "code",
   "execution_count": 10,
   "id": "3aef1e4b-ccaf-4846-aa86-8b8b686ecf83",
   "metadata": {},
   "outputs": [
    {
     "data": {
      "text/plain": [
       "KNeighborsClassifier(n_neighbors=36)"
      ]
     },
     "execution_count": 10,
     "metadata": {},
     "output_type": "execute_result"
    }
   ],
   "source": [
    "knn_model = MODEL(n_neighbors = NUMBER_OF_NEIGHBORS)\n",
    "knn_model.fit(X, y)"
   ]
  },
  {
   "cell_type": "code",
   "execution_count": 11,
   "id": "360ab52f-ddc8-40f5-b11c-e804264aadde",
   "metadata": {},
   "outputs": [],
   "source": [
    "predictions = knn_model.predict(X)"
   ]
  },
  {
   "cell_type": "code",
   "execution_count": 12,
   "id": "f8777b9b-cf1d-4502-8302-fa239672ec42",
   "metadata": {},
   "outputs": [
    {
     "data": {
      "image/png": "[encoded data removed]",
      "text/plain": [
       "<Figure size 600x400 with 2 Axes>"
      ]
     },
     "metadata": {
      "needs_background": "light"
     },
     "output_type": "display_data"
    }
   ],
   "source": [
    "disp = ConfusionMatrixDisplay.from_estimator(\n",
    "    knn_model,\n",
    "    X,\n",
    "    y,\n",
    "    cmap=plt.cm.Reds,\n",
    "    display_labels=[\"EUR\", \"EAS\", \"AMR\", \"SAS\", \"AFR\"],\n",
    "    normalize=None,\n",
    ")\n",
    "\n",
    "disp.ax_.set_title(\"Confusion Matrix Of Data Used To Build Knn Model (65k SNPs)\")\n",
    "fig = disp.ax_.get_figure() \n",
    "#fig.set_figwidth(20)\n",
    "fig.set_dpi(100)"
   ]
  },
  {
   "cell_type": "markdown",
   "id": "bc7a451c-23a8-41ce-a87e-be8958615453",
   "metadata": {},
   "source": [
    "## Investigating subpopulations"
   ]
  },
  {
   "cell_type": "code",
   "execution_count": 13,
   "id": "09d6b060-1dc5-4546-b43d-e01a70e5d3aa",
   "metadata": {},
   "outputs": [
    {
     "data": {
      "image/png": "[encoded data removed]",
      "text/plain": [
       "<Figure size 960x400 with 1 Axes>"
      ]
     },
     "metadata": {
      "needs_background": "light"
     },
     "output_type": "display_data"
    }
   ],
   "source": [
    "sub_population_dict = {}\n",
    "for i in range(len(predictions)):\n",
    "    if i < 1220 or i > 1221:\n",
    "        if not real_df['Population code'][i] in sub_population_dict: sub_population_dict[real_df['Population code'][i]] = {'total': 0, 'errors': 0}\n",
    "        sub_population_dict[real_df['Population code'][i]]['total'] += 1\n",
    "        if predictions[i] != y[i]: sub_population_dict[real_df['Population code'][i]]['errors'] += 1 \n",
    "\n",
    "fig, ax = plt.subplots(figsize=(12,5))\n",
    "fig.set_dpi(80)\n",
    "heights_total = []\n",
    "errors_total = []\n",
    "for key in sub_population_dict.keys():\n",
    "    heights_total.append(sub_population_dict[key]['total'])\n",
    "    errors_total.append(sub_population_dict[key]['errors'])\n",
    "bars = ax.bar(sub_population_dict.keys(), height=heights_total)\n",
    "ax.bar(sub_population_dict.keys(), height=errors_total, color='r')\n",
    "for bar in bars:\n",
    "    yval = bar.get_height()\n",
    "    ax.text(bar.get_x() + bar.get_width()/2, yval + 3, yval, horizontalalignment='center')\n",
    "ax.set_ylabel('Number of individuals')\n",
    "ax.set_title('Number of individuals per subpopulation, in red are mislabeled individuals')\n",
    "plt.show()"
   ]
  },
  {
   "cell_type": "markdown",
   "id": "a379ca9d-f042-4e7c-b45d-b432af95ea50",
   "metadata": {},
   "source": [
    "## Labeling AGs"
   ]
  },
  {
   "cell_type": "code",
   "execution_count": 29,
   "id": "7b830282-4cfc-473c-be00-92f82f4e56e5",
   "metadata": {},
   "outputs": [
    {
     "data": {
      "text/html": [
       "<div>\n",
       "<style scoped>\n",
       "    .dataframe tbody tr th:only-of-type {\n",
       "        vertical-align: middle;\n",
       "    }\n",
       "\n",
       "    .dataframe tbody tr th {\n",
       "        vertical-align: top;\n",
       "    }\n",
       "\n",
       "    .dataframe thead th {\n",
       "        text-align: right;\n",
       "    }\n",
       "</style>\n",
       "<table border=\"1\" class=\"dataframe\">\n",
       "  <thead>\n",
       "    <tr style=\"text-align: right;\">\n",
       "      <th></th>\n",
       "      <th>Type</th>\n",
       "      <th>Sample</th>\n",
       "      <th>0</th>\n",
       "      <th>1</th>\n",
       "      <th>2</th>\n",
       "      <th>3</th>\n",
       "      <th>4</th>\n",
       "      <th>5</th>\n",
       "      <th>6</th>\n",
       "      <th>7</th>\n",
       "      <th>...</th>\n",
       "      <th>9990</th>\n",
       "      <th>9991</th>\n",
       "      <th>9992</th>\n",
       "      <th>9993</th>\n",
       "      <th>9994</th>\n",
       "      <th>9995</th>\n",
       "      <th>9996</th>\n",
       "      <th>9997</th>\n",
       "      <th>9998</th>\n",
       "      <th>9999</th>\n",
       "    </tr>\n",
       "  </thead>\n",
       "  <tbody>\n",
       "    <tr>\n",
       "      <th>0</th>\n",
       "      <td>AG</td>\n",
       "      <td>AG0</td>\n",
       "      <td>0</td>\n",
       "      <td>0</td>\n",
       "      <td>0</td>\n",
       "      <td>0</td>\n",
       "      <td>1</td>\n",
       "      <td>0</td>\n",
       "      <td>1</td>\n",
       "      <td>0</td>\n",
       "      <td>...</td>\n",
       "      <td>0</td>\n",
       "      <td>0</td>\n",
       "      <td>0</td>\n",
       "      <td>0</td>\n",
       "      <td>0</td>\n",
       "      <td>0</td>\n",
       "      <td>0</td>\n",
       "      <td>0</td>\n",
       "      <td>0</td>\n",
       "      <td>0</td>\n",
       "    </tr>\n",
       "    <tr>\n",
       "      <th>1</th>\n",
       "      <td>AG</td>\n",
       "      <td>AG1</td>\n",
       "      <td>0</td>\n",
       "      <td>0</td>\n",
       "      <td>0</td>\n",
       "      <td>0</td>\n",
       "      <td>0</td>\n",
       "      <td>1</td>\n",
       "      <td>1</td>\n",
       "      <td>0</td>\n",
       "      <td>...</td>\n",
       "      <td>0</td>\n",
       "      <td>0</td>\n",
       "      <td>0</td>\n",
       "      <td>0</td>\n",
       "      <td>0</td>\n",
       "      <td>0</td>\n",
       "      <td>0</td>\n",
       "      <td>0</td>\n",
       "      <td>0</td>\n",
       "      <td>0</td>\n",
       "    </tr>\n",
       "    <tr>\n",
       "      <th>2</th>\n",
       "      <td>AG</td>\n",
       "      <td>AG2</td>\n",
       "      <td>0</td>\n",
       "      <td>0</td>\n",
       "      <td>0</td>\n",
       "      <td>0</td>\n",
       "      <td>0</td>\n",
       "      <td>0</td>\n",
       "      <td>0</td>\n",
       "      <td>0</td>\n",
       "      <td>...</td>\n",
       "      <td>0</td>\n",
       "      <td>0</td>\n",
       "      <td>0</td>\n",
       "      <td>0</td>\n",
       "      <td>0</td>\n",
       "      <td>0</td>\n",
       "      <td>0</td>\n",
       "      <td>0</td>\n",
       "      <td>0</td>\n",
       "      <td>0</td>\n",
       "    </tr>\n",
       "    <tr>\n",
       "      <th>3</th>\n",
       "      <td>AG</td>\n",
       "      <td>AG3</td>\n",
       "      <td>0</td>\n",
       "      <td>0</td>\n",
       "      <td>0</td>\n",
       "      <td>0</td>\n",
       "      <td>0</td>\n",
       "      <td>0</td>\n",
       "      <td>0</td>\n",
       "      <td>0</td>\n",
       "      <td>...</td>\n",
       "      <td>0</td>\n",
       "      <td>0</td>\n",
       "      <td>0</td>\n",
       "      <td>0</td>\n",
       "      <td>0</td>\n",
       "      <td>0</td>\n",
       "      <td>0</td>\n",
       "      <td>0</td>\n",
       "      <td>0</td>\n",
       "      <td>0</td>\n",
       "    </tr>\n",
       "    <tr>\n",
       "      <th>4</th>\n",
       "      <td>AG</td>\n",
       "      <td>AG4</td>\n",
       "      <td>0</td>\n",
       "      <td>0</td>\n",
       "      <td>0</td>\n",
       "      <td>0</td>\n",
       "      <td>0</td>\n",
       "      <td>0</td>\n",
       "      <td>1</td>\n",
       "      <td>0</td>\n",
       "      <td>...</td>\n",
       "      <td>0</td>\n",
       "      <td>0</td>\n",
       "      <td>0</td>\n",
       "      <td>0</td>\n",
       "      <td>0</td>\n",
       "      <td>0</td>\n",
       "      <td>0</td>\n",
       "      <td>0</td>\n",
       "      <td>0</td>\n",
       "      <td>0</td>\n",
       "    </tr>\n",
       "  </tbody>\n",
       "</table>\n",
       "<p>5 rows × 10002 columns</p>\n",
       "</div>"
      ],
      "text/plain": [
       "  Type Sample  0  1  2  3  4  5  6  7  ...  9990  9991  9992  9993  9994  \\\n",
       "0   AG    AG0  0  0  0  0  1  0  1  0  ...     0     0     0     0     0   \n",
       "1   AG    AG1  0  0  0  0  0  1  1  0  ...     0     0     0     0     0   \n",
       "2   AG    AG2  0  0  0  0  0  0  0  0  ...     0     0     0     0     0   \n",
       "3   AG    AG3  0  0  0  0  0  0  0  0  ...     0     0     0     0     0   \n",
       "4   AG    AG4  0  0  0  0  0  0  1  0  ...     0     0     0     0     0   \n",
       "\n",
       "   9995  9996  9997  9998  9999  \n",
       "0     0     0     0     0     0  \n",
       "1     0     0     0     0     0  \n",
       "2     0     0     0     0     0  \n",
       "3     0     0     0     0     0  \n",
       "4     0     0     0     0     0  \n",
       "\n",
       "[5 rows x 10002 columns]"
      ]
     },
     "execution_count": 29,
     "metadata": {},
     "output_type": "execute_result"
    }
   ],
   "source": [
    "ag_df = pd.read_csv('./data/' + ag_filename, delimiter = ' ')\n",
    "ag_df.head()"
   ]
  },
  {
   "cell_type": "code",
   "execution_count": 30,
   "id": "8c6204ab-71b6-4277-9ea6-1cfe98d82df1",
   "metadata": {},
   "outputs": [
    {
     "data": {
      "image/png": "[encoded data removed]",
      "text/plain": [
       "<Figure size 600x400 with 1 Axes>"
      ]
     },
     "metadata": {
      "needs_background": "light"
     },
     "output_type": "display_data"
    }
   ],
   "source": [
    "ag_df[\"Superpopulation code\"] = knn_model.predict(ag_df.iloc[:, 3:SNP + 3])\n",
    "\n",
    "superpopulation_code_dict = {\n",
    "    0 : 'EUR',\n",
    "    1 : 'EAS',\n",
    "    2 : 'AMR',\n",
    "    3 : 'SAS',\n",
    "    4 : 'AFR'\n",
    "}\n",
    "\n",
    "superpopulation_code_colors = ['#D9EDF8', '#FFADAD', '#E4F1EE', '#FFD6A5', '#DEDAF4']\n",
    "\n",
    "fig, ax = plt.subplots()\n",
    "fig.set_dpi(100)\n",
    "\n",
    "individual_per_pop = []\n",
    "pop_names = [\"EUR\", \"EAS\", \"AMR\", \"SAS\", \"AFR\"]\n",
    "for i in range(5):\n",
    "    individual_per_pop.append(ag_df[ag_df['Superpopulation code'] == i].shape[0])\n",
    "\n",
    "bars = ax.bar(pop_names, height=individual_per_pop, color=superpopulation_code_colors)\n",
    "for bar in bars:\n",
    "    yval = bar.get_height()\n",
    "    ax.text(bar.get_x() + bar.get_width()/2, yval + 10, yval, horizontalalignment='center')\n",
    "ax.set_ylabel('Number of individuals')\n",
    "ax.set_title('Number of individuals per superpopulation')\n",
    "\n",
    "plt.show()\n",
    "\n",
    "ag_df[\"Superpopulation code\"].replace(superpopulation_code_dict, inplace=True)"
   ]
  },
  {
   "cell_type": "code",
   "execution_count": 31,
   "id": "0408c029-7d33-49cc-aeb7-d178cfc0dd71",
   "metadata": {},
   "outputs": [
    {
     "data": {
      "text/html": [
       "<div>\n",
       "<style scoped>\n",
       "    .dataframe tbody tr th:only-of-type {\n",
       "        vertical-align: middle;\n",
       "    }\n",
       "\n",
       "    .dataframe tbody tr th {\n",
       "        vertical-align: top;\n",
       "    }\n",
       "\n",
       "    .dataframe thead th {\n",
       "        text-align: right;\n",
       "    }\n",
       "</style>\n",
       "<table border=\"1\" class=\"dataframe\">\n",
       "  <thead>\n",
       "    <tr style=\"text-align: right;\">\n",
       "      <th></th>\n",
       "      <th>Sample</th>\n",
       "      <th>Superpopulation code</th>\n",
       "    </tr>\n",
       "  </thead>\n",
       "  <tbody>\n",
       "    <tr>\n",
       "      <th>0</th>\n",
       "      <td>AG0</td>\n",
       "      <td>EAS</td>\n",
       "    </tr>\n",
       "    <tr>\n",
       "      <th>1</th>\n",
       "      <td>AG1</td>\n",
       "      <td>EAS</td>\n",
       "    </tr>\n",
       "    <tr>\n",
       "      <th>2</th>\n",
       "      <td>AG2</td>\n",
       "      <td>EAS</td>\n",
       "    </tr>\n",
       "    <tr>\n",
       "      <th>3</th>\n",
       "      <td>AG3</td>\n",
       "      <td>EAS</td>\n",
       "    </tr>\n",
       "    <tr>\n",
       "      <th>4</th>\n",
       "      <td>AG4</td>\n",
       "      <td>AFR</td>\n",
       "    </tr>\n",
       "  </tbody>\n",
       "</table>\n",
       "</div>"
      ],
      "text/plain": [
       "  Sample Superpopulation code\n",
       "0    AG0                  EAS\n",
       "1    AG1                  EAS\n",
       "2    AG2                  EAS\n",
       "3    AG3                  EAS\n",
       "4    AG4                  AFR"
      ]
     },
     "execution_count": 31,
     "metadata": {},
     "output_type": "execute_result"
    }
   ],
   "source": [
    "ag_tsv = ag_df[[\"Sample\", \"Superpopulation code\"]]\n",
    "ag_tsv.to_csv(\"./generated/WGAN.tsv\", sep=\",\", na_rep='', index=False)\n",
    "ag_tsv.head()"
   ]
  },
  {
   "cell_type": "markdown",
   "id": "cf60f522-8f37-45a8-a8f3-eea83ab93f39",
   "metadata": {},
   "source": [
    "## Reducing dimensions"
   ]
  },
  {
   "cell_type": "code",
   "execution_count": 14,
   "id": "f08154aa-a9dd-492d-a7f2-363b7b153e8a",
   "metadata": {},
   "outputs": [],
   "source": [
    "from sklearn.manifold import TSNE"
   ]
  },
  {
   "cell_type": "code",
   "execution_count": 15,
   "id": "8b575df9-ec1a-44fa-b7e8-a8c4978208d9",
   "metadata": {},
   "outputs": [
    {
     "name": "stderr",
     "output_type": "stream",
     "text": [
      "/shared/software/miniconda/envs/python-pytorch-tensorflow-3.7-1.11.0-2.6.0/lib/python3.7/site-packages/sklearn/manifold/_t_sne.py:783: FutureWarning: The default initialization in TSNE will change from 'random' to 'pca' in 1.2.\n",
      "  FutureWarning,\n",
      "/shared/software/miniconda/envs/python-pytorch-tensorflow-3.7-1.11.0-2.6.0/lib/python3.7/site-packages/sklearn/manifold/_t_sne.py:793: FutureWarning: The default learning rate in TSNE will change from 200.0 to 'auto' in 1.2.\n",
      "  FutureWarning,\n"
     ]
    }
   ],
   "source": [
    "X_numpy = X.to_numpy()\n",
    "tsme = TSNE(n_components=2).fit_transform(X_numpy)"
   ]
  },
  {
   "cell_type": "code",
   "execution_count": 16,
   "id": "36e4700c-3ae9-4816-9ecb-505fb113429a",
   "metadata": {},
   "outputs": [
    {
     "data": {
      "text/plain": [
       "KNeighborsClassifier(n_neighbors=36)"
      ]
     },
     "execution_count": 16,
     "metadata": {},
     "output_type": "execute_result"
    }
   ],
   "source": [
    "knn_model_tsne = MODEL(n_neighbors = NUMBER_OF_NEIGHBORS)\n",
    "knn_model_tsne.fit(X_numpy, y)"
   ]
  },
  {
   "cell_type": "code",
   "execution_count": 17,
   "id": "5e384645-b815-4ea9-b594-4e93cd11890a",
   "metadata": {},
   "outputs": [
    {
     "name": "stdout",
     "output_type": "stream",
     "text": [
      "The mean squared error for our model is:  1.063880533637202\n"
     ]
    }
   ],
   "source": [
    "train_preds = knn_model.predict(X)\n",
    "mse = mean_squared_error(y, train_preds)\n",
    "rmse = sqrt(mse)\n",
    "print(\"The mean squared error for our model is: \", rmse)"
   ]
  },
  {
   "cell_type": "code",
   "execution_count": 21,
   "id": "3e2e3758-70c1-4f22-8d4d-de91574ef299",
   "metadata": {},
   "outputs": [
    {
     "data": {
      "image/png": "[encoded data removed]",
      "text/plain": [
       "<Figure size 600x400 with 2 Axes>"
      ]
     },
     "metadata": {
      "needs_background": "light"
     },
     "output_type": "display_data"
    }
   ],
   "source": [
    "disp = ConfusionMatrixDisplay.from_estimator(\n",
    "    knn_model,\n",
    "    X,\n",
    "    y,\n",
    "    cmap=plt.cm.Blues,\n",
    "    display_labels=[\"EUR\", \"EAS\", \"AMR\", \"SAS\", \"AFR\"],\n",
    "    normalize=None\n",
    ")\n",
    "\n",
    "disp.ax_.set_title(\"Confusion Matrix Of Data Used To Build Knn Model (TSME)\")\n",
    "fig = disp.ax_.get_figure()\n",
    "fig.set_dpi(100)\n",
    "plt.show()"
   ]
  }
 ],
 "metadata": {
  "kernelspec": {
   "display_name": "Python 3.7",
   "language": "python",
   "name": "python3"
  },
  "language_info": {
   "codemirror_mode": {
    "name": "ipython",
    "version": 3
   },
   "file_extension": ".py",
   "mimetype": "text/x-python",
   "name": "python",
   "nbconvert_exporter": "python",
   "pygments_lexer": "ipython3",
   "version": "3.7.12"
  }
 },
 "nbformat": 4,
 "nbformat_minor": 5
}
